{
 "cells": [
  {
   "cell_type": "code",
   "execution_count": 1,
   "metadata": {},
   "outputs": [],
   "source": [
    "import json\n",
    "import pandas as pd\n",
    "import seaborn as sns\n",
    "import matplotlib.pyplot as plt\n",
    "import matplotlib.ticker as ticker\n",
    "from matplotlib.ticker import ScalarFormatter,FormatStrFormatter,StrMethodFormatter\n",
    "from sklearn.preprocessing import MultiLabelBinarizer"
   ]
  },
  {
   "cell_type": "code",
   "execution_count": 2,
   "metadata": {},
   "outputs": [],
   "source": [
    "portfolio = pd.read_json(r'C:\\Desktop\\portfolio.json', orient='records', lines=True)\n",
    "profile = pd.read_json(r'C:\\Desktop\\profile.json', orient='records', lines=True)\n",
    "transcript = pd.read_json(r'C:\\Desktop\\transcript.json', orient='records', lines=True)"
   ]
  },
  {
   "cell_type": "code",
   "execution_count": 3,
   "metadata": {},
   "outputs": [],
   "source": [
    "df=pd.DataFrame(transcript['value'].values.tolist(),index=transcript.index)"
   ]
  },
  {
   "cell_type": "code",
   "execution_count": 4,
   "metadata": {},
   "outputs": [],
   "source": [
    "transcript=transcript.merge(df,left_index=True, right_index=True)"
   ]
  },
  {
   "cell_type": "code",
   "execution_count": 5,
   "metadata": {},
   "outputs": [],
   "source": [
    "#one hot encode channels\n",
    "mlb = MultiLabelBinarizer()\n",
    "channel = pd.DataFrame(mlb.fit_transform(portfolio['channels']),columns=mlb.classes_, index=portfolio.index)"
   ]
  },
  {
   "cell_type": "code",
   "execution_count": 6,
   "metadata": {},
   "outputs": [],
   "source": [
    "portfolio=portfolio.merge(channel,left_index=True, right_index=True)"
   ]
  },
  {
   "cell_type": "code",
   "execution_count": 7,
   "metadata": {},
   "outputs": [],
   "source": [
    "transcript=transcript.merge(portfolio, left_on='offer_id', right_on='id', how='left')"
   ]
  },
  {
   "cell_type": "code",
   "execution_count": 8,
   "metadata": {},
   "outputs": [],
   "source": [
    "transcript=transcript.merge(profile, left_on='person', right_on='id', how='left')"
   ]
  },
  {
   "cell_type": "code",
   "execution_count": 9,
   "metadata": {},
   "outputs": [],
   "source": [
    "transcript=transcript.merge(portfolio, left_on='offer id', right_on='id', how='left')"
   ]
  },
  {
   "cell_type": "code",
   "execution_count": 10,
   "metadata": {},
   "outputs": [],
   "source": [
    "transcript_a=transcript[transcript['event']=='offer completed']\\\n",
    ".groupby(['offer_type_x','difficulty_x','reward_x','duration_x'])['event'].count()"
   ]
  },
  {
   "cell_type": "code",
   "execution_count": 11,
   "metadata": {},
   "outputs": [],
   "source": [
    "transcript_a=transcript_a.reset_index()"
   ]
  },
  {
   "cell_type": "code",
   "execution_count": 12,
   "metadata": {
    "scrolled": true
   },
   "outputs": [
    {
     "data": {
      "text/html": [
       "<div>\n",
       "<style scoped>\n",
       "    .dataframe tbody tr th:only-of-type {\n",
       "        vertical-align: middle;\n",
       "    }\n",
       "\n",
       "    .dataframe tbody tr th {\n",
       "        vertical-align: top;\n",
       "    }\n",
       "\n",
       "    .dataframe thead th {\n",
       "        text-align: right;\n",
       "    }\n",
       "</style>\n",
       "<table border=\"1\" class=\"dataframe\">\n",
       "  <thead>\n",
       "    <tr style=\"text-align: right;\">\n",
       "      <th></th>\n",
       "      <th>offer_type_x</th>\n",
       "      <th>difficulty_x</th>\n",
       "      <th>reward_x</th>\n",
       "      <th>duration_x</th>\n",
       "      <th>event</th>\n",
       "    </tr>\n",
       "  </thead>\n",
       "  <tbody>\n",
       "    <tr>\n",
       "      <th>0</th>\n",
       "      <td>bogo</td>\n",
       "      <td>5.0</td>\n",
       "      <td>5.0</td>\n",
       "      <td>5.0</td>\n",
       "      <td>4296</td>\n",
       "    </tr>\n",
       "    <tr>\n",
       "      <th>1</th>\n",
       "      <td>bogo</td>\n",
       "      <td>5.0</td>\n",
       "      <td>5.0</td>\n",
       "      <td>7.0</td>\n",
       "      <td>4354</td>\n",
       "    </tr>\n",
       "    <tr>\n",
       "      <th>2</th>\n",
       "      <td>bogo</td>\n",
       "      <td>10.0</td>\n",
       "      <td>10.0</td>\n",
       "      <td>5.0</td>\n",
       "      <td>3331</td>\n",
       "    </tr>\n",
       "    <tr>\n",
       "      <th>3</th>\n",
       "      <td>bogo</td>\n",
       "      <td>10.0</td>\n",
       "      <td>10.0</td>\n",
       "      <td>7.0</td>\n",
       "      <td>3688</td>\n",
       "    </tr>\n",
       "    <tr>\n",
       "      <th>4</th>\n",
       "      <td>discount</td>\n",
       "      <td>7.0</td>\n",
       "      <td>3.0</td>\n",
       "      <td>7.0</td>\n",
       "      <td>5156</td>\n",
       "    </tr>\n",
       "    <tr>\n",
       "      <th>5</th>\n",
       "      <td>discount</td>\n",
       "      <td>10.0</td>\n",
       "      <td>2.0</td>\n",
       "      <td>7.0</td>\n",
       "      <td>4017</td>\n",
       "    </tr>\n",
       "    <tr>\n",
       "      <th>6</th>\n",
       "      <td>discount</td>\n",
       "      <td>10.0</td>\n",
       "      <td>2.0</td>\n",
       "      <td>10.0</td>\n",
       "      <td>5317</td>\n",
       "    </tr>\n",
       "    <tr>\n",
       "      <th>7</th>\n",
       "      <td>discount</td>\n",
       "      <td>20.0</td>\n",
       "      <td>5.0</td>\n",
       "      <td>10.0</td>\n",
       "      <td>3420</td>\n",
       "    </tr>\n",
       "  </tbody>\n",
       "</table>\n",
       "</div>"
      ],
      "text/plain": [
       "  offer_type_x  difficulty_x  reward_x  duration_x  event\n",
       "0         bogo           5.0       5.0         5.0   4296\n",
       "1         bogo           5.0       5.0         7.0   4354\n",
       "2         bogo          10.0      10.0         5.0   3331\n",
       "3         bogo          10.0      10.0         7.0   3688\n",
       "4     discount           7.0       3.0         7.0   5156\n",
       "5     discount          10.0       2.0         7.0   4017\n",
       "6     discount          10.0       2.0        10.0   5317\n",
       "7     discount          20.0       5.0        10.0   3420"
      ]
     },
     "execution_count": 12,
     "metadata": {},
     "output_type": "execute_result"
    }
   ],
   "source": [
    "transcript_a"
   ]
  },
  {
   "cell_type": "code",
   "execution_count": 13,
   "metadata": {},
   "outputs": [],
   "source": [
    "transcript_a=transcript_a.rename(columns={\"offer_type_x\": \"offer_type\",\\\n",
    "                             \"difficulty_x\": \"difficulty\",\\\n",
    "                             \"reward_x\": \"reward\",\\\n",
    "                             \"duration_x\":\"duration\",\n",
    "                             \"event\":\"Number of Offers Completed\"})\n"
   ]
  },
  {
   "cell_type": "code",
   "execution_count": 14,
   "metadata": {},
   "outputs": [],
   "source": [
    "transcript_b=transcript[(transcript['event']=='offer received') & (transcript['offer_type_y']!='informational')]\\\n",
    ".groupby(['offer_type_y','difficulty_y','reward','duration_y'])['event'].count()\n",
    "# I omit O because it's unclear what gender it is so would not inform future targeting strategy"
   ]
  },
  {
   "cell_type": "code",
   "execution_count": 15,
   "metadata": {},
   "outputs": [],
   "source": [
    "transcript_b=transcript_b.reset_index()"
   ]
  },
  {
   "cell_type": "code",
   "execution_count": 16,
   "metadata": {},
   "outputs": [],
   "source": [
    "transcript_b=transcript_b.rename(columns={\"offer_type_y\": \"offer_type\",\\\n",
    "                             \"difficulty_y\": \"difficulty\",\\\n",
    "                             \"duration_y\":\"duration\",\n",
    "                             \"event\":\"Number of Offers Received\"})\n"
   ]
  },
  {
   "cell_type": "code",
   "execution_count": 17,
   "metadata": {},
   "outputs": [
    {
     "data": {
      "text/html": [
       "<div>\n",
       "<style scoped>\n",
       "    .dataframe tbody tr th:only-of-type {\n",
       "        vertical-align: middle;\n",
       "    }\n",
       "\n",
       "    .dataframe tbody tr th {\n",
       "        vertical-align: top;\n",
       "    }\n",
       "\n",
       "    .dataframe thead th {\n",
       "        text-align: right;\n",
       "    }\n",
       "</style>\n",
       "<table border=\"1\" class=\"dataframe\">\n",
       "  <thead>\n",
       "    <tr style=\"text-align: right;\">\n",
       "      <th></th>\n",
       "      <th>offer_type</th>\n",
       "      <th>difficulty</th>\n",
       "      <th>reward</th>\n",
       "      <th>duration</th>\n",
       "      <th>Number of Offers Received</th>\n",
       "    </tr>\n",
       "  </thead>\n",
       "  <tbody>\n",
       "    <tr>\n",
       "      <th>0</th>\n",
       "      <td>bogo</td>\n",
       "      <td>5.0</td>\n",
       "      <td>5.0</td>\n",
       "      <td>5.0</td>\n",
       "      <td>7571</td>\n",
       "    </tr>\n",
       "    <tr>\n",
       "      <th>1</th>\n",
       "      <td>bogo</td>\n",
       "      <td>5.0</td>\n",
       "      <td>5.0</td>\n",
       "      <td>7.0</td>\n",
       "      <td>7677</td>\n",
       "    </tr>\n",
       "    <tr>\n",
       "      <th>2</th>\n",
       "      <td>bogo</td>\n",
       "      <td>10.0</td>\n",
       "      <td>10.0</td>\n",
       "      <td>5.0</td>\n",
       "      <td>7593</td>\n",
       "    </tr>\n",
       "    <tr>\n",
       "      <th>3</th>\n",
       "      <td>bogo</td>\n",
       "      <td>10.0</td>\n",
       "      <td>10.0</td>\n",
       "      <td>7.0</td>\n",
       "      <td>7658</td>\n",
       "    </tr>\n",
       "    <tr>\n",
       "      <th>4</th>\n",
       "      <td>discount</td>\n",
       "      <td>7.0</td>\n",
       "      <td>3.0</td>\n",
       "      <td>7.0</td>\n",
       "      <td>7646</td>\n",
       "    </tr>\n",
       "    <tr>\n",
       "      <th>5</th>\n",
       "      <td>discount</td>\n",
       "      <td>10.0</td>\n",
       "      <td>2.0</td>\n",
       "      <td>7.0</td>\n",
       "      <td>7632</td>\n",
       "    </tr>\n",
       "    <tr>\n",
       "      <th>6</th>\n",
       "      <td>discount</td>\n",
       "      <td>10.0</td>\n",
       "      <td>2.0</td>\n",
       "      <td>10.0</td>\n",
       "      <td>7597</td>\n",
       "    </tr>\n",
       "    <tr>\n",
       "      <th>7</th>\n",
       "      <td>discount</td>\n",
       "      <td>20.0</td>\n",
       "      <td>5.0</td>\n",
       "      <td>10.0</td>\n",
       "      <td>7668</td>\n",
       "    </tr>\n",
       "  </tbody>\n",
       "</table>\n",
       "</div>"
      ],
      "text/plain": [
       "  offer_type  difficulty  reward  duration  Number of Offers Received\n",
       "0       bogo         5.0     5.0       5.0                       7571\n",
       "1       bogo         5.0     5.0       7.0                       7677\n",
       "2       bogo        10.0    10.0       5.0                       7593\n",
       "3       bogo        10.0    10.0       7.0                       7658\n",
       "4   discount         7.0     3.0       7.0                       7646\n",
       "5   discount        10.0     2.0       7.0                       7632\n",
       "6   discount        10.0     2.0      10.0                       7597\n",
       "7   discount        20.0     5.0      10.0                       7668"
      ]
     },
     "execution_count": 17,
     "metadata": {},
     "output_type": "execute_result"
    }
   ],
   "source": [
    "transcript_b"
   ]
  },
  {
   "cell_type": "code",
   "execution_count": 18,
   "metadata": {},
   "outputs": [],
   "source": [
    "#inner join transcript_a and transcript_b on index\n",
    "response=pd.merge(transcript_a, transcript_b, left_index=True, right_index=True)"
   ]
  },
  {
   "cell_type": "code",
   "execution_count": 19,
   "metadata": {},
   "outputs": [],
   "source": [
    "response=response.drop(columns=['offer_type_y', 'difficulty_y','reward_y','duration_y'])\\\n",
    ".rename(columns={\"offer_type_x\": \"offer_type\",\\\n",
    "                             \"difficulty_x\": \"difficulty\",\\\n",
    "                             \"reward_x\": \"reward\",\\\n",
    "                             \"duration_x\":\"duration\"})"
   ]
  },
  {
   "cell_type": "code",
   "execution_count": 20,
   "metadata": {},
   "outputs": [],
   "source": [
    "response['Percent of Offers Completed/Offers Received']=\\\n",
    "round((response['Number of Offers Completed']/response['Number of Offers Received']*100),1)"
   ]
  },
  {
   "cell_type": "code",
   "execution_count": 21,
   "metadata": {},
   "outputs": [
    {
     "data": {
      "text/html": [
       "<div>\n",
       "<style scoped>\n",
       "    .dataframe tbody tr th:only-of-type {\n",
       "        vertical-align: middle;\n",
       "    }\n",
       "\n",
       "    .dataframe tbody tr th {\n",
       "        vertical-align: top;\n",
       "    }\n",
       "\n",
       "    .dataframe thead th {\n",
       "        text-align: right;\n",
       "    }\n",
       "</style>\n",
       "<table border=\"1\" class=\"dataframe\">\n",
       "  <thead>\n",
       "    <tr style=\"text-align: right;\">\n",
       "      <th></th>\n",
       "      <th>offer_type</th>\n",
       "      <th>difficulty</th>\n",
       "      <th>reward</th>\n",
       "      <th>duration</th>\n",
       "      <th>Number of Offers Completed</th>\n",
       "      <th>Number of Offers Received</th>\n",
       "      <th>Percent of Offers Completed/Offers Received</th>\n",
       "    </tr>\n",
       "  </thead>\n",
       "  <tbody>\n",
       "    <tr>\n",
       "      <th>0</th>\n",
       "      <td>bogo</td>\n",
       "      <td>5.0</td>\n",
       "      <td>5.0</td>\n",
       "      <td>5.0</td>\n",
       "      <td>4296</td>\n",
       "      <td>7571</td>\n",
       "      <td>56.7</td>\n",
       "    </tr>\n",
       "    <tr>\n",
       "      <th>1</th>\n",
       "      <td>bogo</td>\n",
       "      <td>5.0</td>\n",
       "      <td>5.0</td>\n",
       "      <td>7.0</td>\n",
       "      <td>4354</td>\n",
       "      <td>7677</td>\n",
       "      <td>56.7</td>\n",
       "    </tr>\n",
       "    <tr>\n",
       "      <th>2</th>\n",
       "      <td>bogo</td>\n",
       "      <td>10.0</td>\n",
       "      <td>10.0</td>\n",
       "      <td>5.0</td>\n",
       "      <td>3331</td>\n",
       "      <td>7593</td>\n",
       "      <td>43.9</td>\n",
       "    </tr>\n",
       "    <tr>\n",
       "      <th>3</th>\n",
       "      <td>bogo</td>\n",
       "      <td>10.0</td>\n",
       "      <td>10.0</td>\n",
       "      <td>7.0</td>\n",
       "      <td>3688</td>\n",
       "      <td>7658</td>\n",
       "      <td>48.2</td>\n",
       "    </tr>\n",
       "    <tr>\n",
       "      <th>4</th>\n",
       "      <td>discount</td>\n",
       "      <td>7.0</td>\n",
       "      <td>3.0</td>\n",
       "      <td>7.0</td>\n",
       "      <td>5156</td>\n",
       "      <td>7646</td>\n",
       "      <td>67.4</td>\n",
       "    </tr>\n",
       "    <tr>\n",
       "      <th>5</th>\n",
       "      <td>discount</td>\n",
       "      <td>10.0</td>\n",
       "      <td>2.0</td>\n",
       "      <td>7.0</td>\n",
       "      <td>4017</td>\n",
       "      <td>7632</td>\n",
       "      <td>52.6</td>\n",
       "    </tr>\n",
       "    <tr>\n",
       "      <th>6</th>\n",
       "      <td>discount</td>\n",
       "      <td>10.0</td>\n",
       "      <td>2.0</td>\n",
       "      <td>10.0</td>\n",
       "      <td>5317</td>\n",
       "      <td>7597</td>\n",
       "      <td>70.0</td>\n",
       "    </tr>\n",
       "    <tr>\n",
       "      <th>7</th>\n",
       "      <td>discount</td>\n",
       "      <td>20.0</td>\n",
       "      <td>5.0</td>\n",
       "      <td>10.0</td>\n",
       "      <td>3420</td>\n",
       "      <td>7668</td>\n",
       "      <td>44.6</td>\n",
       "    </tr>\n",
       "  </tbody>\n",
       "</table>\n",
       "</div>"
      ],
      "text/plain": [
       "  offer_type  difficulty  reward  duration  Number of Offers Completed  \\\n",
       "0       bogo         5.0     5.0       5.0                        4296   \n",
       "1       bogo         5.0     5.0       7.0                        4354   \n",
       "2       bogo        10.0    10.0       5.0                        3331   \n",
       "3       bogo        10.0    10.0       7.0                        3688   \n",
       "4   discount         7.0     3.0       7.0                        5156   \n",
       "5   discount        10.0     2.0       7.0                        4017   \n",
       "6   discount        10.0     2.0      10.0                        5317   \n",
       "7   discount        20.0     5.0      10.0                        3420   \n",
       "\n",
       "   Number of Offers Received  Percent of Offers Completed/Offers Received  \n",
       "0                       7571                                         56.7  \n",
       "1                       7677                                         56.7  \n",
       "2                       7593                                         43.9  \n",
       "3                       7658                                         48.2  \n",
       "4                       7646                                         67.4  \n",
       "5                       7632                                         52.6  \n",
       "6                       7597                                         70.0  \n",
       "7                       7668                                         44.6  "
      ]
     },
     "execution_count": 21,
     "metadata": {},
     "output_type": "execute_result"
    }
   ],
   "source": [
    "response"
   ]
  },
  {
   "cell_type": "code",
   "execution_count": 22,
   "metadata": {},
   "outputs": [],
   "source": [
    "response['Offer Type Variant']=response['offer_type'].str.upper()\\\n",
    "+\":\\n \"+ \"Spend: \"+response['difficulty'].astype(str)\\\n",
    "+\",\\n Reward: \"+response['reward'].astype(str)\\\n",
    "+\",\\n Duration: \"+response['duration'].astype(str)\n",
    "response\n",
    "response=response.set_index('Offer Type Variant')\n",
    "response=response.sort_values('Percent of Offers Completed/Offers Received',ascending=False)"
   ]
  },
  {
   "cell_type": "code",
   "execution_count": 23,
   "metadata": {},
   "outputs": [
    {
     "data": {
      "image/png": "[encoded data removed]",
      "text/plain": [
       "<Figure size 864x360 with 2 Axes>"
      ]
     },
     "metadata": {
      "needs_background": "light"
     },
     "output_type": "display_data"
    }
   ],
   "source": [
    "plt.figure(figsize=(12,5))\n",
    "ax=response['Number of Offers Received'].plot(kind = \"bar\", width=.6, color='orange',legend=True)\n",
    "plt.legend(bbox_to_anchor=(1.1, 1))\n",
    "ax.spines['right'].set_visible(False)\n",
    "ax.spines['top'].set_visible(False)\n",
    "ax.bar_label(ax.containers[0],fmt='{:,.0f}')\n",
    "plt.xticks(rotation=360)\n",
    "ax.yaxis.set_major_formatter(StrMethodFormatter('{x:,.0f}'))\n",
    "ax1 = ax.twinx()\n",
    "ax1.annotate('70.0', xy=(0, 75),color='green',weight='bold')\n",
    "ax1.annotate('67.4', xy=(1, 70),color='green',weight='bold')\n",
    "ax1.annotate('56.7', xy=(2, 60),color='green',weight='bold')\n",
    "ax1.annotate('56.7', xy=(3, 60),color='green',weight='bold')\n",
    "ax1.annotate('52.6', xy=(4, 55),color='green',weight='bold')\n",
    "ax1.annotate('48.2', xy=(5, 50),color='green',weight='bold')\n",
    "ax1.annotate('44.6', xy=(6, 48),color='green',weight='bold')\n",
    "ax1.annotate('43.9', xy=(7, 48),color='green',weight='bold')\n",
    "ax1=response['Percent of Offers Completed/Offers Received'].plot(kind = \"line\", marker='o',color='green',legend=True)\n",
    "plt.legend(bbox_to_anchor=(1.5,.9))\n",
    "ax.set_ylabel('Number of Offers Received')\n",
    "ax1.set_ylabel('Response Rates', rotation=270)\n",
    "ax1.set_ylim([0,100])\n",
    "plt.title('Response Rate of Reward Type Variant\\n (Ranked from Highest to Lowest)', weight='bold')\n",
    "plt.show()"
   ]
  }
 ],
 "metadata": {
  "kernelspec": {
   "display_name": "Python 3",
   "language": "python",
   "name": "python3"
  },
  "language_info": {
   "codemirror_mode": {
    "name": "ipython",
    "version": 3
   },
   "file_extension": ".py",
   "mimetype": "text/x-python",
   "name": "python",
   "nbconvert_exporter": "python",
   "pygments_lexer": "ipython3",
   "version": "3.8.3"
  }
 },
 "nbformat": 4,
 "nbformat_minor": 4
}
